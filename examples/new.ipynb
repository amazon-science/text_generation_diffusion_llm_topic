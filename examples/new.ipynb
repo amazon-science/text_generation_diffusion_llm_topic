{
 "cells": [
  {
   "cell_type": "code",
   "execution_count": 10,
   "metadata": {},
   "outputs": [
    {
     "name": "stderr",
     "output_type": "stream",
     "text": [
      "[nltk_data] Downloading package punkt to /home/weijiexu/nltk_data...\n",
      "[nltk_data]   Package punkt is already up-to-date!\n",
      "[nltk_data] Downloading package wordnet to /home/weijiexu/nltk_data...\n",
      "[nltk_data]   Package wordnet is already up-to-date!\n",
      "[nltk_data] Downloading package averaged_perceptron_tagger to\n",
      "[nltk_data]     /home/weijiexu/nltk_data...\n",
      "[nltk_data]   Package averaged_perceptron_tagger is already up-to-\n",
      "[nltk_data]       date!\n",
      "[nltk_data] Downloading package stopwords to\n",
      "[nltk_data]     /home/weijiexu/nltk_data...\n",
      "[nltk_data]   Package stopwords is already up-to-date!\n"
     ]
    }
   ],
   "source": [
    "import sys\n",
    "sys.path.insert(0, '../src/topicmodeling')\n",
    "from model import TopicModel\n",
    "from datasets import load_dataset\n",
    "from octis.evaluation_metrics.diversity_metrics import TopicDiversity\n",
    "from octis.evaluation_metrics.coherence_metrics import Coherence\n",
    "\n",
    "\n",
    "df = load_dataset('xwjzds/ag_news')\n",
    "tm = TopicModel(numb_embeddings = 10)\n",
    "\n",
    "model_output = tm.train_model(df['train']['text'])\n",
    "metric = TopicDiversity(topk=10)\n",
    "topic_diversity_score = metric.score(model_output) # Compute score of diversity\n",
    "cmetric = Coherence(texts =  tm.tp.lemmas,  measure='c_npmi')\n",
    "coherence1 = cmetric.score(model_output) # Compute score of coherence\n",
    "cmetric = Coherence(texts =  tm.tp.lemmas,  measure='c_v')\n",
    "coherence2 = cmetric.score(model_output) # Compute score of coherence\n",
    "print(topic_diversity_score, coherence1, coherence2)"
   ]
  },
  {
   "cell_type": "code",
   "execution_count": 1,
   "metadata": {},
   "outputs": [
    {
     "ename": "NameError",
     "evalue": "name 'df' is not defined",
     "output_type": "error",
     "traceback": [
      "\u001b[0;31m---------------------------------------------------------------------------\u001b[0m",
      "\u001b[0;31mNameError\u001b[0m                                 Traceback (most recent call last)",
      "\u001b[1;32m/home/weijiexu/workspace/Vontss/examples/new.ipynb Cell 2\u001b[0m in \u001b[0;36m<cell line: 1>\u001b[0;34m()\u001b[0m\n\u001b[0;32m----> <a href='vscode-notebook-cell://ssh-remote%2Bclouddesktopgpu8/home/weijiexu/workspace/Vontss/examples/new.ipynb#W1sdnNjb2RlLXJlbW90ZQ%3D%3D?line=0'>1</a>\u001b[0m \u001b[39mlen\u001b[39m(df[\u001b[39m'\u001b[39m\u001b[39mtrain\u001b[39m\u001b[39m'\u001b[39m][\u001b[39m'\u001b[39m\u001b[39mtext\u001b[39m\u001b[39m'\u001b[39m])\n",
      "\u001b[0;31mNameError\u001b[0m: name 'df' is not defined"
     ]
    }
   ],
   "source": [
    "len(df['train']['text'])"
   ]
  },
  {
   "cell_type": "code",
   "execution_count": 7,
   "metadata": {},
   "outputs": [],
   "source": []
  },
  {
   "cell_type": "code",
   "execution_count": 8,
   "metadata": {},
   "outputs": [
    {
     "data": {
      "text/plain": [
       "0.4406901587312282"
      ]
     },
     "execution_count": 8,
     "metadata": {},
     "output_type": "execute_result"
    }
   ],
   "source": [
    "coherence"
   ]
  },
  {
   "cell_type": "code",
   "execution_count": 21,
   "metadata": {},
   "outputs": [
    {
     "name": "stdout",
     "output_type": "stream",
     "text": [
      "Collecting gensim==4.3.1\n",
      "  Downloading gensim-4.3.1-cp310-cp310-manylinux_2_17_x86_64.manylinux2014_x86_64.whl (26.4 MB)\n",
      "\u001b[2K     \u001b[90m━━━━━━━━━━━━━━━━━━━━━━━━━━━━━━━━━━━━━━━━\u001b[0m \u001b[32m26.4/26.4 MB\u001b[0m \u001b[31m63.1 MB/s\u001b[0m eta \u001b[36m0:00:00\u001b[0m00:01\u001b[0m00:01\u001b[0m\n",
      "\u001b[?25hRequirement already satisfied: numpy>=1.18.5 in /local/home/weijiexu/anaconda3/envs/env-01/lib/python3.10/site-packages (from gensim==4.3.1) (1.23.0)\n",
      "Requirement already satisfied: scipy>=1.7.0 in /local/home/weijiexu/anaconda3/envs/env-01/lib/python3.10/site-packages (from gensim==4.3.1) (1.10.1)\n",
      "Requirement already satisfied: smart-open>=1.8.1 in /local/home/weijiexu/anaconda3/envs/env-01/lib/python3.10/site-packages (from gensim==4.3.1) (6.3.0)\n",
      "Installing collected packages: gensim\n",
      "  Attempting uninstall: gensim\n",
      "    Found existing installation: gensim 4.2.0\n",
      "    Uninstalling gensim-4.2.0:\n",
      "      Successfully uninstalled gensim-4.2.0\n",
      "\u001b[31mERROR: pip's dependency resolver does not currently take into account all the packages that are installed. This behaviour is the source of the following dependency conflicts.\n",
      "octis 1.13.1 requires gensim==4.2.0, but you have gensim 4.3.1 which is incompatible.\u001b[0m\u001b[31m\n",
      "\u001b[0mSuccessfully installed gensim-4.3.1\n",
      "\n",
      "\u001b[1m[\u001b[0m\u001b[34;49mnotice\u001b[0m\u001b[1;39;49m]\u001b[0m\u001b[39;49m A new release of pip is available: \u001b[0m\u001b[31;49m23.2.1\u001b[0m\u001b[39;49m -> \u001b[0m\u001b[32;49m23.3.2\u001b[0m\n",
      "\u001b[1m[\u001b[0m\u001b[34;49mnotice\u001b[0m\u001b[1;39;49m]\u001b[0m\u001b[39;49m To update, run: \u001b[0m\u001b[32;49mpip install --upgrade pip\u001b[0m\n"
     ]
    }
   ],
   "source": [
    "!pip install gensim==4.3.1"
   ]
  },
  {
   "cell_type": "code",
   "execution_count": 14,
   "metadata": {},
   "outputs": [
    {
     "data": {
      "text/plain": [
       "array([[4.1902823e-07, 1.3587736e-11, 5.3726155e-03, ..., 1.9312135e-06,\n",
       "        1.2757047e-02, 5.9493249e-07],\n",
       "       [7.3549999e-10, 1.0243623e-11, 8.0542906e-09, ..., 4.1704459e-07,\n",
       "        3.0640180e-08, 1.8471485e-11],\n",
       "       [5.7667028e-04, 2.3967863e-07, 3.3781704e-04, ..., 4.3794357e-10,\n",
       "        1.9988370e-04, 6.9555554e-08],\n",
       "       ...,\n",
       "       [9.4333009e-05, 6.0200409e-06, 1.6074823e-04, ..., 1.8656671e-06,\n",
       "        1.5472580e-07, 9.5643941e-03],\n",
       "       [4.6894229e-06, 1.4929505e-08, 6.0049203e-08, ..., 2.1408705e-01,\n",
       "        1.2392248e-09, 1.7268887e-08],\n",
       "       [2.8513581e-03, 3.7061946e-07, 3.7983521e-03, ..., 1.7031522e-04,\n",
       "        5.1026487e-05, 6.4088619e-07]], dtype=float32)"
      ]
     },
     "execution_count": 14,
     "metadata": {},
     "output_type": "execute_result"
    }
   ],
   "source": [
    "model_output['topic-word-matrix']"
   ]
  },
  {
   "cell_type": "code",
   "execution_count": 13,
   "metadata": {},
   "outputs": [
    {
     "data": {
      "text/plain": [
       "array([[0.0994494 , 0.0990864 , 0.09963817, ..., 0.09905903, 0.09858026,\n",
       "        0.09912238],\n",
       "       [0.06421395, 0.06424627, 0.06424221, ..., 0.06428529, 0.06446692,\n",
       "        0.06432256],\n",
       "       [0.10132632, 0.10125542, 0.10153911, ..., 0.10124898, 0.10130309,\n",
       "        0.10128608],\n",
       "       ...,\n",
       "       [0.10297655, 0.10317902, 0.10267786, ..., 0.10305715, 0.10250283,\n",
       "        0.10282135],\n",
       "       [0.07066783, 0.07073216, 0.07061214, ..., 0.07076373, 0.07085302,\n",
       "        0.0706471 ],\n",
       "       [0.15995942, 0.1605845 , 0.16014957, ..., 0.1603556 , 0.16008826,\n",
       "        0.16038543]], dtype=float32)"
      ]
     },
     "execution_count": 13,
     "metadata": {},
     "output_type": "execute_result"
    }
   ],
   "source": [
    "model_output['topic-document-matrix']"
   ]
  },
  {
   "cell_type": "code",
   "execution_count": null,
   "metadata": {},
   "outputs": [],
   "source": []
  }
 ],
 "metadata": {
  "kernelspec": {
   "display_name": "env-01",
   "language": "python",
   "name": "python3"
  },
  "language_info": {
   "codemirror_mode": {
    "name": "ipython",
    "version": 3
   },
   "file_extension": ".py",
   "mimetype": "text/x-python",
   "name": "python",
   "nbconvert_exporter": "python",
   "pygments_lexer": "ipython3",
   "version": "3.10.10"
  },
  "orig_nbformat": 4
 },
 "nbformat": 4,
 "nbformat_minor": 2
}
