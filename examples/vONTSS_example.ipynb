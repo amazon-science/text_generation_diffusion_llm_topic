{
 "cells": [
  {
   "cell_type": "code",
   "execution_count": 6,
   "metadata": {},
   "outputs": [
    {
     "name": "stdout",
     "output_type": "stream",
     "text": [
      "\u001b[31mERROR: Could not find a version that satisfies the requirement cudatoolkit==10.1 (from versions: none)\u001b[0m\u001b[31m\n",
      "\u001b[0m\u001b[31mERROR: No matching distribution found for cudatoolkit==10.1\u001b[0m\u001b[31m\n",
      "\u001b[0m"
     ]
    }
   ],
   "source": [
    "!conda install cudatoolkit==10.1 "
   ]
  },
  {
   "cell_type": "code",
   "execution_count": 1,
   "metadata": {},
   "outputs": [
    {
     "name": "stdout",
     "output_type": "stream",
     "text": [
      "Requirement already satisfied: nltk==3.5 in /Users/weijiexu/miniconda3/lib/python3.10/site-packages (3.5)\n",
      "Requirement already satisfied: regex in /Users/weijiexu/miniconda3/lib/python3.10/site-packages (from nltk==3.5) (2023.6.3)\n",
      "Requirement already satisfied: click in /Users/weijiexu/miniconda3/lib/python3.10/site-packages (from nltk==3.5) (8.1.6)\n",
      "Requirement already satisfied: tqdm in /Users/weijiexu/miniconda3/lib/python3.10/site-packages (from nltk==3.5) (4.65.0)\n",
      "Requirement already satisfied: joblib in /Users/weijiexu/miniconda3/lib/python3.10/site-packages (from nltk==3.5) (1.3.1)\n"
     ]
    }
   ],
   "source": [
    "!pip install nltk==3.5"
   ]
  },
  {
   "cell_type": "code",
   "execution_count": 8,
   "metadata": {},
   "outputs": [
    {
     "name": "stdout",
     "output_type": "stream",
     "text": [
      "Requirement already satisfied: huggingface-hub==0.16.4 in /Users/weijiexu/miniconda3/lib/python3.10/site-packages (0.16.4)\n",
      "Requirement already satisfied: typing-extensions>=3.7.4.3 in /Users/weijiexu/miniconda3/lib/python3.10/site-packages (from huggingface-hub==0.16.4) (4.7.1)\n",
      "Requirement already satisfied: pyyaml>=5.1 in /Users/weijiexu/miniconda3/lib/python3.10/site-packages (from huggingface-hub==0.16.4) (6.0.1)\n",
      "Requirement already satisfied: filelock in /Users/weijiexu/miniconda3/lib/python3.10/site-packages (from huggingface-hub==0.16.4) (3.12.2)\n",
      "Requirement already satisfied: fsspec in /Users/weijiexu/miniconda3/lib/python3.10/site-packages (from huggingface-hub==0.16.4) (2023.6.0)\n",
      "Requirement already satisfied: requests in /Users/weijiexu/miniconda3/lib/python3.10/site-packages (from huggingface-hub==0.16.4) (2.28.1)\n",
      "Requirement already satisfied: tqdm>=4.42.1 in /Users/weijiexu/miniconda3/lib/python3.10/site-packages (from huggingface-hub==0.16.4) (4.65.0)\n",
      "Requirement already satisfied: packaging>=20.9 in /Users/weijiexu/miniconda3/lib/python3.10/site-packages (from huggingface-hub==0.16.4) (23.0)\n",
      "Requirement already satisfied: idna<4,>=2.5 in /Users/weijiexu/miniconda3/lib/python3.10/site-packages (from requests->huggingface-hub==0.16.4) (3.4)\n",
      "Requirement already satisfied: certifi>=2017.4.17 in /Users/weijiexu/miniconda3/lib/python3.10/site-packages (from requests->huggingface-hub==0.16.4) (2023.7.22)\n",
      "Requirement already satisfied: charset-normalizer<3,>=2 in /Users/weijiexu/miniconda3/lib/python3.10/site-packages (from requests->huggingface-hub==0.16.4) (2.0.4)\n",
      "Requirement already satisfied: urllib3<1.27,>=1.21.1 in /Users/weijiexu/miniconda3/lib/python3.10/site-packages (from requests->huggingface-hub==0.16.4) (1.26.15)\n"
     ]
    }
   ],
   "source": [
    "#pip install datasets\n",
    "\n",
    "!pip install huggingface-hub==0.16.4"
   ]
  },
  {
   "cell_type": "code",
   "execution_count": 3,
   "metadata": {},
   "outputs": [
    {
     "name": "stdout",
     "output_type": "stream",
     "text": [
      "Defaulting to user installation because normal site-packages is not writeable\n",
      "Requirement already satisfied: gensim in /Users/weijiexu/Library/Python/3.9/lib/python/site-packages (4.3.1)\n",
      "Requirement already satisfied: scipy>=1.7.0 in /Users/weijiexu/Library/Python/3.9/lib/python/site-packages (from gensim) (1.11.1)\n",
      "Requirement already satisfied: numpy>=1.18.5 in /Users/weijiexu/Library/Python/3.9/lib/python/site-packages (from gensim) (1.24.3)\n",
      "Requirement already satisfied: smart-open>=1.8.1 in /Users/weijiexu/Library/Python/3.9/lib/python/site-packages (from gensim) (6.3.0)\n",
      "\u001b[33mWARNING: You are using pip version 21.2.4; however, version 23.2.1 is available.\n",
      "You should consider upgrading via the '/Library/Developer/CommandLineTools/usr/bin/python3 -m pip install --upgrade pip' command.\u001b[0m\n"
     ]
    }
   ],
   "source": [
    "!pip3 install gensim"
   ]
  },
  {
   "cell_type": "code",
   "execution_count": 1,
   "metadata": {},
   "outputs": [
    {
     "name": "stderr",
     "output_type": "stream",
     "text": [
      "/Users/weijiexu/miniconda3/lib/python3.10/site-packages/tqdm/auto.py:21: TqdmWarning: IProgress not found. Please update jupyter and ipywidgets. See https://ipywidgets.readthedocs.io/en/stable/user_install.html\n",
      "  from .autonotebook import tqdm as notebook_tqdm\n"
     ]
    }
   ],
   "source": [
    "import sys\n",
    "sys.path.insert(0, '../src/topicmodeling')\n",
    "\n",
    "\n",
    "from datasets import load_dataset\n",
    "from model import TopicModel\n",
    "df = load_dataset('xwjzds/ag_news')\n"
   ]
  },
  {
   "cell_type": "code",
   "execution_count": 2,
   "metadata": {},
   "outputs": [
    {
     "name": "stderr",
     "output_type": "stream",
     "text": [
      "[nltk_data] Downloading package punkt to /Users/weijiexu/nltk_data...\n",
      "[nltk_data]   Package punkt is already up-to-date!\n",
      "[nltk_data] Downloading package wordnet to\n",
      "[nltk_data]     /Users/weijiexu/nltk_data...\n",
      "[nltk_data]   Package wordnet is already up-to-date!\n",
      "[nltk_data] Downloading package averaged_perceptron_tagger to\n",
      "[nltk_data]     /Users/weijiexu/nltk_data...\n",
      "[nltk_data]   Package averaged_perceptron_tagger is already up-to-\n",
      "[nltk_data]       date!\n",
      "[nltk_data] Downloading package stopwords to\n",
      "[nltk_data]     /Users/weijiexu/nltk_data...\n",
      "[nltk_data]   Package stopwords is already up-to-date!\n",
      "/Users/weijiexu/Library/Python/3.9/lib/python/site-packages/urllib3/__init__.py:34: NotOpenSSLWarning: urllib3 v2.0 only supports OpenSSL 1.1.1+, currently the 'ssl' module is compiled with 'LibreSSL 2.8.3'. See: https://github.com/urllib3/urllib3/issues/3020\n",
      "  warnings.warn(\n",
      "/Users/weijiexu/Library/Python/3.9/lib/python/site-packages/urllib3/__init__.py:34: NotOpenSSLWarning: urllib3 v2.0 only supports OpenSSL 1.1.1+, currently the 'ssl' module is compiled with 'LibreSSL 2.8.3'. See: https://github.com/urllib3/urllib3/issues/3020\n",
      "  warnings.warn(\n",
      "/Users/weijiexu/Library/Python/3.9/lib/python/site-packages/urllib3/__init__.py:34: NotOpenSSLWarning: urllib3 v2.0 only supports OpenSSL 1.1.1+, currently the 'ssl' module is compiled with 'LibreSSL 2.8.3'. See: https://github.com/urllib3/urllib3/issues/3020\n",
      "  warnings.warn(\n",
      "/Users/weijiexu/Library/Python/3.9/lib/python/site-packages/urllib3/__init__.py:34: NotOpenSSLWarning: urllib3 v2.0 only supports OpenSSL 1.1.1+, currently the 'ssl' module is compiled with 'LibreSSL 2.8.3'. See: https://github.com/urllib3/urllib3/issues/3020\n",
      "  warnings.warn(\n",
      "/Users/weijiexu/Library/Python/3.9/lib/python/site-packages/urllib3/__init__.py:34: NotOpenSSLWarning: urllib3 v2.0 only supports OpenSSL 1.1.1+, currently the 'ssl' module is compiled with 'LibreSSL 2.8.3'. See: https://github.com/urllib3/urllib3/issues/3020\n",
      "  warnings.warn(\n",
      "/Users/weijiexu/Library/Python/3.9/lib/python/site-packages/urllib3/__init__.py:34: NotOpenSSLWarning: urllib3 v2.0 only supports OpenSSL 1.1.1+, currently the 'ssl' module is compiled with 'LibreSSL 2.8.3'. See: https://github.com/urllib3/urllib3/issues/3020\n",
      "  warnings.warn(\n",
      "/Users/weijiexu/Library/Python/3.9/lib/python/site-packages/urllib3/__init__.py:34: NotOpenSSLWarning: urllib3 v2.0 only supports OpenSSL 1.1.1+, currently the 'ssl' module is compiled with 'LibreSSL 2.8.3'. See: https://github.com/urllib3/urllib3/issues/3020\n",
      "  warnings.warn(\n",
      "/Users/weijiexu/Library/Python/3.9/lib/python/site-packages/urllib3/__init__.py:34: NotOpenSSLWarning: urllib3 v2.0 only supports OpenSSL 1.1.1+, currently the 'ssl' module is compiled with 'LibreSSL 2.8.3'. See: https://github.com/urllib3/urllib3/issues/3020\n",
      "  warnings.warn(\n",
      "/Users/weijiexu/Library/Python/3.9/lib/python/site-packages/urllib3/__init__.py:34: NotOpenSSLWarning: urllib3 v2.0 only supports OpenSSL 1.1.1+, currently the 'ssl' module is compiled with 'LibreSSL 2.8.3'. See: https://github.com/urllib3/urllib3/issues/3020\n",
      "  warnings.warn(\n",
      "/Users/weijiexu/Library/Python/3.9/lib/python/site-packages/urllib3/__init__.py:34: NotOpenSSLWarning: urllib3 v2.0 only supports OpenSSL 1.1.1+, currently the 'ssl' module is compiled with 'LibreSSL 2.8.3'. See: https://github.com/urllib3/urllib3/issues/3020\n",
      "  warnings.warn(\n"
     ]
    },
    {
     "name": "stdout",
     "output_type": "stream",
     "text": [
      "10 760\n",
      "[[1642, 717, 3100], [790, 1234, 74], [2397, 831], [321, 623, 2516]]\n",
      "(3109, 100)\n"
     ]
    },
    {
     "name": "stderr",
     "output_type": "stream",
     "text": [
      "/Users/weijiexu/Library/Python/3.9/lib/python/site-packages/torch/distributions/distribution.py:51: UserWarning: <class 'hyperspherical_vae.distributions.hyperspherical_uniform.HypersphericalUniform'> does not define `arg_constraints`. Please set `arg_constraints = {}` or initialize the distribution with `validate_args=False` to turn off validation.\n",
      "  warnings.warn(f'{self.__class__} does not define `arg_constraints`. ' +\n",
      "/Users/weijiexu/workspace/Vontss/src/topicmodeling/model.py:248: UserWarning: Implicit dimension choice for softmax has been deprecated. Change the call to include dim=X as an argument.\n",
      "  z = self.h_to_z(self.temp * z)\n",
      "/Users/weijiexu/Library/Python/3.9/lib/python/site-packages/ot/bregman.py:535: UserWarning: Sinkhorn did not converge. You might want to increase the number of iterations `numItermax` or the regularization parameter `reg`.\n",
      "  warnings.warn(\"Sinkhorn did not converge. You might want to \"\n"
     ]
    },
    {
     "name": "stdout",
     "output_type": "stream",
     "text": [
      "290.0371103922526 0.014164088945835828\n",
      "272.7939264933268 0.014196063640216987\n",
      "238.46782531738282 0.014295457707097134\n",
      "195.67383982340496 0.014737639483064413\n",
      "165.11175791422525 0.01711907017355164\n",
      "150.08601888020834 0.02084836984674136\n",
      "144.80604095458983 0.02140928270916144\n",
      "141.75492986043295 0.020943036240835985\n",
      "139.74347127278645 0.02045379343132178\n",
      "138.378409576416 0.02076870674888293\n",
      "137.4826889038086 0.020378513323764006\n",
      "136.85845387776692 0.020848530096312365\n",
      "136.35351537068684 0.020254918312033018\n",
      "135.77164001464843 0.020837311446666718\n",
      "135.5344202677409 0.020648742094635963\n",
      "135.25502014160156 0.020143048899869124\n",
      "135.07222569783528 0.02014832980930805\n",
      "134.94646759033202 0.0202709449455142\n",
      "134.84669723510743 0.020300152152776717\n",
      "134.7002975463867 0.020276345312595367\n"
     ]
    },
    {
     "name": "stderr",
     "output_type": "stream",
     "text": [
      "/Users/weijiexu/workspace/Vontss/src/topicmodeling/model.py:440: UserWarning: Implicit dimension choice for softmax has been deprecated. Change the call to include dim=X as an argument.\n",
      "  self.z = self.model.h_to_z(z_mean).detach().numpy()\n"
     ]
    }
   ],
   "source": [
    "tm = TopicModel(numb_embeddings = 4)\n",
    "seed_topic_list  = [['government', 'military', 'war'],\n",
    "     ['basketball', 'football', 'athlete'],\n",
    "     ['stock', 'market', 'industry'],\n",
    "     ['computer', 'telescope', 'software']]\n",
    "model_output = tm.train_model(df['test']['text'], index =  seed_topic_list)"
   ]
  },
  {
   "cell_type": "code",
   "execution_count": 2,
   "metadata": {},
   "outputs": [
    {
     "name": "stdout",
     "output_type": "stream",
     "text": [
      "Collecting POT\n",
      "  Downloading POT-0.9.0-cp310-cp310-macosx_11_0_arm64.whl (225 kB)\n",
      "\u001b[2K     \u001b[90m━━━━━━━━━━━━━━━━━━━━━━━━━━━━━━━━━━━━━━\u001b[0m \u001b[32m225.8/225.8 kB\u001b[0m \u001b[31m25.4 MB/s\u001b[0m eta \u001b[36m0:00:00\u001b[0m\n",
      "\u001b[?25hRequirement already satisfied: numpy>=1.16 in /Users/weijiexu/miniconda3/lib/python3.10/site-packages (from POT) (1.23.1)\n",
      "Requirement already satisfied: scipy>=1.0 in /Users/weijiexu/miniconda3/lib/python3.10/site-packages (from POT) (1.11.1)\n",
      "Installing collected packages: POT\n",
      "Successfully installed POT-0.9.0\n"
     ]
    }
   ],
   "source": [
    "!pip3 install POT"
   ]
  },
  {
   "cell_type": "code",
   "execution_count": 3,
   "metadata": {},
   "outputs": [
    {
     "name": "stdout",
     "output_type": "stream",
     "text": [
      "Defaulting to user installation because normal site-packages is not writeable\n",
      "Collecting seaborn\n",
      "  Using cached seaborn-0.12.2-py3-none-any.whl (293 kB)\n",
      "Requirement already satisfied: pandas>=0.25 in /Users/weijiexu/Library/Python/3.9/lib/python/site-packages (from seaborn) (2.0.2)\n",
      "Requirement already satisfied: numpy!=1.24.0,>=1.17 in /Users/weijiexu/Library/Python/3.9/lib/python/site-packages (from seaborn) (1.24.3)\n",
      "Requirement already satisfied: matplotlib!=3.6.1,>=3.1 in /Users/weijiexu/Library/Python/3.9/lib/python/site-packages (from seaborn) (3.7.2)\n",
      "Requirement already satisfied: cycler>=0.10 in /Users/weijiexu/Library/Python/3.9/lib/python/site-packages (from matplotlib!=3.6.1,>=3.1->seaborn) (0.11.0)\n",
      "Requirement already satisfied: fonttools>=4.22.0 in /Users/weijiexu/Library/Python/3.9/lib/python/site-packages (from matplotlib!=3.6.1,>=3.1->seaborn) (4.41.1)\n",
      "Requirement already satisfied: pillow>=6.2.0 in /Users/weijiexu/Library/Python/3.9/lib/python/site-packages (from matplotlib!=3.6.1,>=3.1->seaborn) (9.5.0)\n",
      "Requirement already satisfied: packaging>=20.0 in /Users/weijiexu/Library/Python/3.9/lib/python/site-packages (from matplotlib!=3.6.1,>=3.1->seaborn) (23.1)\n",
      "Requirement already satisfied: pyparsing<3.1,>=2.3.1 in /Users/weijiexu/Library/Python/3.9/lib/python/site-packages (from matplotlib!=3.6.1,>=3.1->seaborn) (3.0.9)\n",
      "Requirement already satisfied: importlib-resources>=3.2.0 in /Users/weijiexu/Library/Python/3.9/lib/python/site-packages (from matplotlib!=3.6.1,>=3.1->seaborn) (6.0.0)\n",
      "Requirement already satisfied: kiwisolver>=1.0.1 in /Users/weijiexu/Library/Python/3.9/lib/python/site-packages (from matplotlib!=3.6.1,>=3.1->seaborn) (1.4.4)\n",
      "Requirement already satisfied: python-dateutil>=2.7 in /Users/weijiexu/Library/Python/3.9/lib/python/site-packages (from matplotlib!=3.6.1,>=3.1->seaborn) (2.8.2)\n",
      "Requirement already satisfied: contourpy>=1.0.1 in /Users/weijiexu/Library/Python/3.9/lib/python/site-packages (from matplotlib!=3.6.1,>=3.1->seaborn) (1.1.0)\n",
      "Requirement already satisfied: zipp>=3.1.0 in /Users/weijiexu/Library/Python/3.9/lib/python/site-packages (from importlib-resources>=3.2.0->matplotlib!=3.6.1,>=3.1->seaborn) (3.16.2)\n",
      "Requirement already satisfied: tzdata>=2022.1 in /Users/weijiexu/Library/Python/3.9/lib/python/site-packages (from pandas>=0.25->seaborn) (2023.3)\n",
      "Requirement already satisfied: pytz>=2020.1 in /Users/weijiexu/Library/Python/3.9/lib/python/site-packages (from pandas>=0.25->seaborn) (2023.3)\n",
      "Requirement already satisfied: six>=1.5 in /Library/Developer/CommandLineTools/Library/Frameworks/Python3.framework/Versions/3.9/lib/python3.9/site-packages (from python-dateutil>=2.7->matplotlib!=3.6.1,>=3.1->seaborn) (1.15.0)\n",
      "Installing collected packages: seaborn\n",
      "Successfully installed seaborn-0.12.2\n",
      "\u001b[33mWARNING: You are using pip version 21.2.4; however, version 23.2.1 is available.\n",
      "You should consider upgrading via the '/Library/Developer/CommandLineTools/usr/bin/python3 -m pip install --upgrade pip' command.\u001b[0m\n"
     ]
    }
   ],
   "source": [
    "!pip3 install seaborn"
   ]
  },
  {
   "cell_type": "code",
   "execution_count": 3,
   "metadata": {},
   "outputs": [
    {
     "name": "stdout",
     "output_type": "stream",
     "text": [
      "Collecting numpy==1.23.1\n",
      "  Downloading numpy-1.23.1-cp310-cp310-macosx_11_0_arm64.whl (13.3 MB)\n",
      "\u001b[2K     \u001b[90m━━━━━━━━━━━━━━━━━━━━━━━━━━━━━━━━━━━━━━━━\u001b[0m \u001b[32m13.3/13.3 MB\u001b[0m \u001b[31m29.6 MB/s\u001b[0m eta \u001b[36m0:00:00\u001b[0m00:01\u001b[0m00:01\u001b[0m\n",
      "\u001b[?25hInstalling collected packages: numpy\n",
      "  Attempting uninstall: numpy\n",
      "    Found existing installation: numpy 1.25.1\n",
      "    Uninstalling numpy-1.25.1:\n",
      "      Successfully uninstalled numpy-1.25.1\n",
      "Successfully installed numpy-1.23.1\n"
     ]
    }
   ],
   "source": [
    "!pip install numpy==1.23.1"
   ]
  },
  {
   "cell_type": "code",
   "execution_count": 3,
   "metadata": {},
   "outputs": [],
   "source": [
    "from octis.evaluation_metrics.diversity_metrics import TopicDiversity\n",
    "from octis.evaluation_metrics.coherence_metrics import Coherence\n",
    "\n",
    "metric = Coherence(texts =  tm.tp.lemmas,  measure='c_v')\n",
    "metric = TopicDiversity(topk=10)\n",
    "topic_diversity_score = metric.score(model_output) # Compute score of the metric"
   ]
  },
  {
   "cell_type": "code",
   "execution_count": 8,
   "metadata": {},
   "outputs": [
    {
     "data": {
      "text/plain": [
       "['government',\n",
       " 'president',\n",
       " 'group',\n",
       " 'court',\n",
       " 'iraq',\n",
       " 'billion',\n",
       " 'share',\n",
       " 'yesterday',\n",
       " 'may',\n",
       " 'official']"
      ]
     },
     "execution_count": 8,
     "metadata": {},
     "output_type": "execute_result"
    }
   ],
   "source": [
    "model_output['topics'][3]"
   ]
  },
  {
   "cell_type": "code",
   "execution_count": 14,
   "metadata": {},
   "outputs": [
    {
     "data": {
      "text/plain": [
       "0.79"
      ]
     },
     "execution_count": 14,
     "metadata": {},
     "output_type": "execute_result"
    }
   ],
   "source": [
    "topic_diversity_score"
   ]
  },
  {
   "cell_type": "code",
   "execution_count": 15,
   "metadata": {},
   "outputs": [
    {
     "data": {
      "text/plain": [
       "(10, 3109)"
      ]
     },
     "execution_count": 15,
     "metadata": {},
     "output_type": "execute_result"
    }
   ],
   "source": [
    "model_output['topic-word-matrix'].shape"
   ]
  },
  {
   "cell_type": "code",
   "execution_count": 16,
   "metadata": {},
   "outputs": [
    {
     "data": {
      "text/plain": [
       "(10, 7600)"
      ]
     },
     "execution_count": 16,
     "metadata": {},
     "output_type": "execute_result"
    }
   ],
   "source": [
    "model_output['topic-document-matrix'].shape"
   ]
  },
  {
   "cell_type": "code",
   "execution_count": 11,
   "metadata": {},
   "outputs": [
    {
     "data": {
      "text/plain": [
       "[(\"Iran Sees No Reason for Iraq Summit (AP) AP - There is no reason to hold a meeting of Iraq's neighbors planned for this week in Amman, an Iranian envoy said Monday in a further sign of strained relations following accusations by Jordan's King Abdullah that Tehran wanted to influence the Iraqi elections.\",\n",
       "  0.22632027),\n",
       " ('Men, Women More Different Than Thought CHICAGO - Beyond the tired cliches and sperm-and-egg basics taught in grade school science class, researchers are discovering that men and women are even more different than anyone realized.    It turns out that major illnesses like heart disease and lung cancer are influenced by gender and that perhaps treatments for women ought to be slightly different from the approach used for men...',\n",
       "  0.22601566),\n",
       " (\"NCAA Notifies Baylor Baylor received its notice of allegations Thursday from the NCAA about infractions in its men's basketball program discovered after the death of player Patrick Dennehy.\",\n",
       "  0.22362877),\n",
       " (\"Iraq video shows 'hostage deaths' A video is released which apparently shows the killing of  two hostages in Iraq, while two others are released.\",\n",
       "  0.22347543),\n",
       " (\"'Cure' a 4-Letter Word for Cancer Doctors At a time when more people are cured of cancer than ever before, fewer doctors seem willing to say so. They call the cancer undetectable, or in remission. They tell patients they can quit seeing cancer specialists. They quote statistics and say chances are slim that the disease will come back.\",\n",
       "  0.22341073)]"
      ]
     },
     "execution_count": 11,
     "metadata": {},
     "output_type": "execute_result"
    }
   ],
   "source": [
    "tm.get_representative_docs(0)"
   ]
  },
  {
   "cell_type": "code",
   "execution_count": 13,
   "metadata": {},
   "outputs": [
    {
     "ename": "IndexError",
     "evalue": "index 10 is out of bounds for axis 0 with size 10",
     "output_type": "error",
     "traceback": [
      "\u001b[0;31m---------------------------------------------------------------------------\u001b[0m",
      "\u001b[0;31mIndexError\u001b[0m                                Traceback (most recent call last)",
      "Cell \u001b[0;32mIn[13], line 4\u001b[0m\n\u001b[1;32m      1\u001b[0m \u001b[39mimport\u001b[39;00m \u001b[39mnumpy\u001b[39;00m \u001b[39mas\u001b[39;00m \u001b[39mnp\u001b[39;00m\n\u001b[1;32m      2\u001b[0m emb \u001b[39m=\u001b[39m tm\u001b[39m.\u001b[39mmodel\u001b[39m.\u001b[39mtopics\u001b[39m.\u001b[39mget_topics()\u001b[39m.\u001b[39mcpu()\u001b[39m.\u001b[39mdetach()\u001b[39m.\u001b[39mnumpy()\n\u001b[0;32m----> 4\u001b[0m [[score \u001b[39mfor\u001b[39;00m score \u001b[39min\u001b[39;00m np\u001b[39m.\u001b[39margsort(emb[i])[::\u001b[39m-\u001b[39m\u001b[39m1\u001b[39m]] \u001b[39mfor\u001b[39;00m i \u001b[39min\u001b[39;00m \u001b[39mrange\u001b[39m(\u001b[39m20\u001b[39m)] \n",
      "Cell \u001b[0;32mIn[13], line 4\u001b[0m, in \u001b[0;36m<listcomp>\u001b[0;34m(.0)\u001b[0m\n\u001b[1;32m      1\u001b[0m \u001b[39mimport\u001b[39;00m \u001b[39mnumpy\u001b[39;00m \u001b[39mas\u001b[39;00m \u001b[39mnp\u001b[39;00m\n\u001b[1;32m      2\u001b[0m emb \u001b[39m=\u001b[39m tm\u001b[39m.\u001b[39mmodel\u001b[39m.\u001b[39mtopics\u001b[39m.\u001b[39mget_topics()\u001b[39m.\u001b[39mcpu()\u001b[39m.\u001b[39mdetach()\u001b[39m.\u001b[39mnumpy()\n\u001b[0;32m----> 4\u001b[0m [[score \u001b[39mfor\u001b[39;00m score \u001b[39min\u001b[39;00m np\u001b[39m.\u001b[39margsort(emb[i])[::\u001b[39m-\u001b[39m\u001b[39m1\u001b[39m]] \u001b[39mfor\u001b[39;00m i \u001b[39min\u001b[39;00m \u001b[39mrange\u001b[39m(\u001b[39m20\u001b[39m)] \n",
      "\u001b[0;31mIndexError\u001b[0m: index 10 is out of bounds for axis 0 with size 10"
     ]
    }
   ],
   "source": [
    "import numpy as np\n",
    "emb = tm.model.topics.get_topics().cpu().detach().numpy()\n",
    "\n",
    "[[score for score in np.argsort(emb[i])[::-1]] for i in range(20)] "
   ]
  },
  {
   "cell_type": "code",
   "execution_count": 24,
   "metadata": {},
   "outputs": [
    {
     "name": "stderr",
     "output_type": "stream",
     "text": [
      "[nltk_data] Downloading package punkt to /home/weijiexu/nltk_data...\n",
      "[nltk_data]   Package punkt is already up-to-date!\n",
      "[nltk_data] Downloading package wordnet to /home/weijiexu/nltk_data...\n",
      "[nltk_data]   Package wordnet is already up-to-date!\n",
      "[nltk_data] Downloading package averaged_perceptron_tagger to\n",
      "[nltk_data]     /home/weijiexu/nltk_data...\n",
      "[nltk_data]   Package averaged_perceptron_tagger is already up-to-\n",
      "[nltk_data]       date!\n",
      "[nltk_data] Downloading package stopwords to\n",
      "[nltk_data]     /home/weijiexu/nltk_data...\n",
      "[nltk_data]   Package stopwords is already up-to-date!\n",
      "<string>:6: VisibleDeprecationWarning: Creating an ndarray from ragged nested sequences (which is a list-or-tuple of lists-or-tuples-or ndarrays with different lengths or shapes) is deprecated. If you meant to do this, you must specify 'dtype=object' when creating the ndarray.\n",
      "/home/weijiexu/.venv/lib64/python3.7/site-packages/torch/distributions/distribution.py:47: UserWarning: <class 'hyperspherical_vae.distributions.hyperspherical_uniform.HypersphericalUniform'> does not define `arg_constraints`. Please set `arg_constraints = {}` or initialize the distribution with `validate_args=False` to turn off validation.\n",
      "  'with `validate_args=False` to turn off validation.')\n",
      "/home/weijiexu/.venv/lib64/python3.7/site-packages/ipykernel_launcher.py:208: UserWarning: Implicit dimension choice for softmax has been deprecated. Change the call to include dim=X as an argument.\n"
     ]
    },
    {
     "name": "stdout",
     "output_type": "stream",
     "text": [
      "162.10560811360676 -0.0020186258169511955\n",
      "161.4941546122233 -0.0020413255241389077\n",
      "159.63297170003256 -0.0020750475271294516\n",
      "155.74241002400717 -0.0020875946851447225\n",
      "151.49301681518554 -0.00200341772288084\n",
      "149.92731602986655 -0.002039952118260165\n",
      "149.62922948201498 -0.0021626542632778487\n",
      "149.49652125040691 -0.0022518346396585304\n",
      "149.42318979899088 -0.00230528189179798\n",
      "149.39522755940754 -0.0023332823844005664\n",
      "149.3642801920573 -0.0023492915400614343\n",
      "149.33561325073242 -0.0023581013005847733\n",
      "149.30295155843098 -0.0023634480700517693\n",
      "149.2740483601888 -0.002366729942150414\n",
      "149.25314687093098 -0.0023690670573463042\n",
      "149.24365844726563 -0.002370305615477264\n",
      "149.23114751180012 -0.0023711697353670995\n",
      "149.21383921305338 -0.0023713523677239817\n",
      "149.19549001057942 -0.0023717599843318263\n",
      "149.21060231526693 -0.002371777881247302\n"
     ]
    },
    {
     "name": "stderr",
     "output_type": "stream",
     "text": [
      "/home/weijiexu/.venv/lib64/python3.7/site-packages/ipykernel_launcher.py:376: UserWarning: Implicit dimension choice for softmax has been deprecated. Change the call to include dim=X as an argument.\n"
     ]
    }
   ],
   "source": []
  },
  {
   "cell_type": "code",
   "execution_count": 14,
   "metadata": {},
   "outputs": [
    {
     "ename": "NameError",
     "evalue": "name 'matrix' is not defined",
     "output_type": "error",
     "traceback": [
      "\u001b[0;31m---------------------------------------------------------------------------\u001b[0m",
      "\u001b[0;31mNameError\u001b[0m                                 Traceback (most recent call last)",
      "Cell \u001b[0;32mIn[14], line 1\u001b[0m\n\u001b[0;32m----> 1\u001b[0m matrix[\u001b[39m0\u001b[39m]\n",
      "\u001b[0;31mNameError\u001b[0m: name 'matrix' is not defined"
     ]
    }
   ],
   "source": [
    "matrix[0]"
   ]
  },
  {
   "cell_type": "code",
   "execution_count": 15,
   "metadata": {},
   "outputs": [],
   "source": [
    "from preprocess import TextProcessor"
   ]
  },
  {
   "cell_type": "code",
   "execution_count": 16,
   "metadata": {},
   "outputs": [
    {
     "ename": "NameError",
     "evalue": "name 'topics' is not defined",
     "output_type": "error",
     "traceback": [
      "\u001b[0;31m---------------------------------------------------------------------------\u001b[0m",
      "\u001b[0;31mNameError\u001b[0m                                 Traceback (most recent call last)",
      "Cell \u001b[0;32mIn[16], line 1\u001b[0m\n\u001b[0;32m----> 1\u001b[0m topics[:\u001b[39m20\u001b[39m]\n",
      "\u001b[0;31mNameError\u001b[0m: name 'topics' is not defined"
     ]
    }
   ],
   "source": [
    "topics[:20]"
   ]
  },
  {
   "cell_type": "code",
   "execution_count": 17,
   "metadata": {},
   "outputs": [
    {
     "ename": "NameError",
     "evalue": "name 'tp' is not defined",
     "output_type": "error",
     "traceback": [
      "\u001b[0;31m---------------------------------------------------------------------------\u001b[0m",
      "\u001b[0;31mNameError\u001b[0m                                 Traceback (most recent call last)",
      "Cell \u001b[0;32mIn[17], line 1\u001b[0m\n\u001b[0;32m----> 1\u001b[0m tp\u001b[39m.\u001b[39mdata\n",
      "\u001b[0;31mNameError\u001b[0m: name 'tp' is not defined"
     ]
    }
   ],
   "source": [
    "tp.data"
   ]
  },
  {
   "cell_type": "code",
   "execution_count": null,
   "metadata": {},
   "outputs": [],
   "source": []
  }
 ],
 "metadata": {
  "kernelspec": {
   "display_name": "env-01",
   "language": "python",
   "name": "python3"
  },
  "language_info": {
   "codemirror_mode": {
    "name": "ipython",
    "version": 3
   },
   "file_extension": ".py",
   "mimetype": "text/x-python",
   "name": "python",
   "nbconvert_exporter": "python",
   "pygments_lexer": "ipython3",
   "version": "3.10.10"
  },
  "orig_nbformat": 4
 },
 "nbformat": 4,
 "nbformat_minor": 2
}
