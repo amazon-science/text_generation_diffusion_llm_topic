{
 "cells": [
  {
   "cell_type": "code",
   "execution_count": 1,
   "metadata": {},
   "outputs": [
    {
     "name": "stderr",
     "output_type": "stream",
     "text": [
      "/home/weijiexu/anaconda3/envs/env-01/lib/python3.10/site-packages/tqdm/auto.py:21: TqdmWarning: IProgress not found. Please update jupyter and ipywidgets. See https://ipywidgets.readthedocs.io/en/stable/user_install.html\n",
      "  from .autonotebook import tqdm as notebook_tqdm\n",
      "/local/home/weijiexu/workspace/Vontss/src/topicmodeling/T5_Encoder/CNN_Encoder.py:15: FutureWarning: load_metric is deprecated and will be removed in the next major version of datasets. Use 'evaluate.load' instead, from the new library 🤗 Evaluate: https://huggingface.co/docs/evaluate\n",
      "  metric = datasets.load_metric('sacrebleu')\n",
      "Found cached dataset parquet (/home/weijiexu/.cache/huggingface/datasets/xwjzds___parquet/xwjzds--ag_news-14abcf7379d2aad0/0.0.0/2a3b91fbd88a2c90d1dbbb32b460cf621d31bd5b05b934492fdef7d8d6f236ec)\n",
      "100%|██████████| 2/2 [00:00<00:00, 329.24it/s]\n",
      "[nltk_data] Downloading package punkt to /home/weijiexu/nltk_data...\n",
      "[nltk_data]   Package punkt is already up-to-date!\n",
      "[nltk_data] Downloading package wordnet to /home/weijiexu/nltk_data...\n",
      "[nltk_data]   Package wordnet is already up-to-date!\n",
      "[nltk_data] Downloading package averaged_perceptron_tagger to\n",
      "[nltk_data]     /home/weijiexu/nltk_data...\n",
      "[nltk_data]   Package averaged_perceptron_tagger is already up-to-\n",
      "[nltk_data]       date!\n",
      "[nltk_data] Downloading package stopwords to\n",
      "[nltk_data]     /home/weijiexu/nltk_data...\n",
      "[nltk_data]   Package stopwords is already up-to-date!\n"
     ]
    }
   ],
   "source": [
    "from datasets import load_dataset\n",
    "from preprocess import TextProcessor\n",
    "df = load_dataset('xwjzds/ag_news')\n",
    "\n",
    "model_output = TextProcessor(df['train']['text'][:10])"
   ]
  },
  {
   "cell_type": "code",
   "execution_count": 2,
   "metadata": {},
   "outputs": [
    {
     "name": "stdout",
     "output_type": "stream",
     "text": [
      "[\"Wall St. Bears Claw Back Into the Black (Reuters) Reuters - Short-sellers, Wall Street's dwindling\\\\band of ultra-cynics, are seeing green again.\"]\n",
      "['Carlyle Looks Toward Commercial Aerospace (Reuters) Reuters - Private investment firm Carlyle Group,\\\\which has a reputation for making well-timed and occasionally\\\\controversial plays in the defense industry, has quietly placed\\\\its bets on another part of the market.']\n",
      "[\"Oil and Economy Cloud Stocks' Outlook (Reuters) Reuters - Soaring crude prices plus worries\\\\about the economy and the outlook for earnings are expected to\\\\hang over the stock market next week during the depth of the\\\\summer doldrums.\"]\n",
      "['Iraq Halts Oil Exports from Main Southern Pipeline (Reuters) Reuters - Authorities have halted oil export\\\\flows from the main pipeline in southern Iraq after\\\\intelligence showed a rebel militia could strike\\\\infrastructure, an oil official said on Saturday.']\n",
      "['Oil prices soar to all-time record, posing new menace to US economy (AFP) AFP - Tearaway world oil prices, toppling records and straining wallets, present a new economic menace barely three months before the US presidential elections.']\n",
      "['Stocks End Up, But Near Year Lows (Reuters) Reuters - Stocks ended slightly higher on Friday\\\\but stayed near lows for the year as oil prices surged past  #36;46\\\\a barrel, offsetting a positive outlook from computer maker\\\\Dell Inc. (DELL.O)']\n",
      "[\"Money Funds Fell in Latest Week (AP) AP - Assets of the nation's retail money market mutual funds fell by  #36;1.17 billion in the latest week to  #36;849.98 trillion, the Investment Company Institute said Thursday.\"]\n",
      "['Fed minutes show dissent over inflation (USATODAY.com) USATODAY.com - Retail sales bounced back a bit in July, and new claims for jobless benefits fell last week, the government said Thursday, indicating the economy is improving from a midsummer slump.']\n",
      "['Safety Net (Forbes.com) Forbes.com - After earning a PH.D. in Sociology, Danny Bazil Riley started to work as the general manager at a commercial real estate firm at an annual base salary of  #36;70,000. Soon after, a financial planner stopped by his desk to drop off brochures about insurance benefits available through his employer. But, at 32, \"buying insurance was the furthest thing from my mind,\" says Riley.']\n",
      "[\"Wall St. Bears Claw Back Into the Black  NEW YORK (Reuters) - Short-sellers, Wall Street's dwindling  band of ultra-cynics, are seeing green again.\"]\n"
     ]
    }
   ],
   "source": [
    "model_output.embedding_generation()"
   ]
  },
  {
   "cell_type": "code",
   "execution_count": 3,
   "metadata": {},
   "outputs": [
    {
     "data": {
      "text/plain": [
       "[array([-1.6417611, -2.2995715, -1.9510227, ...,  0.7497782,  2.988791 ,\n",
       "         1.4079323], dtype=float32),\n",
       " array([-2.3591247, -2.4123752, -2.8603513, ...,  0.3443652,  1.8753424,\n",
       "         1.6522243], dtype=float32),\n",
       " array([-1.8146471 , -1.4705577 , -2.005217  , ..., -0.06101079,\n",
       "         2.519045  ,  1.517622  ], dtype=float32),\n",
       " array([-2.1401658, -1.7492014, -2.4797866, ..., -1.1438857,  3.1832254,\n",
       "         2.0104322], dtype=float32),\n",
       " array([-1.604986 , -1.6979145, -2.130483 , ..., -0.823496 ,  3.3996437,\n",
       "         0.7275871], dtype=float32),\n",
       " array([-2.014131  , -1.7336566 , -2.1519225 , ..., -0.40943134,\n",
       "         1.4521998 ,  1.5252116 ], dtype=float32),\n",
       " array([-1.6848204, -2.1754618, -2.0295758, ...,  1.8960128,  2.2492247,\n",
       "        -0.1974375], dtype=float32),\n",
       " array([-1.9613777 , -1.8956141 , -2.031622  , ...,  0.69780046,\n",
       "         1.278298  ,  2.0490847 ], dtype=float32),\n",
       " array([-2.2047985 , -1.6887155 , -2.8186448 , ...,  0.48909074,\n",
       "         0.4389767 ,  2.0311885 ], dtype=float32),\n",
       " array([-1.5503036 , -2.0949159 , -1.6868635 , ...,  0.23605314,\n",
       "         2.8458438 ,  1.5262506 ], dtype=float32)]"
      ]
     },
     "execution_count": 3,
     "metadata": {},
     "output_type": "execute_result"
    }
   ],
   "source": [
    "model_output.embeddings"
   ]
  },
  {
   "cell_type": "code",
   "execution_count": null,
   "metadata": {},
   "outputs": [],
   "source": []
  }
 ],
 "metadata": {
  "kernelspec": {
   "display_name": "env-01",
   "language": "python",
   "name": "python3"
  },
  "language_info": {
   "codemirror_mode": {
    "name": "ipython",
    "version": 3
   },
   "file_extension": ".py",
   "mimetype": "text/x-python",
   "name": "python",
   "nbconvert_exporter": "python",
   "pygments_lexer": "ipython3",
   "version": "3.10.10"
  },
  "orig_nbformat": 4
 },
 "nbformat": 4,
 "nbformat_minor": 2
}
